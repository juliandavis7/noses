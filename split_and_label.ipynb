{
  "nbformat": 4,
  "nbformat_minor": 0,
  "metadata": {
    "colab": {
      "name": "split_and_label.ipynb",
      "provenance": [],
      "collapsed_sections": [],
      "machine_shape": "hm"
    },
    "kernelspec": {
      "display_name": "Python 3",
      "name": "python3"
    }
  },
  "cells": [
    {
      "cell_type": "markdown",
      "metadata": {
        "id": "AsBo5mw5n-zm"
      },
      "source": [
        "## Imports"
      ]
    },
    {
      "cell_type": "code",
      "metadata": {
        "colab": {
          "base_uri": "https://localhost:8080/"
        },
        "id": "worIlFfUn1Hw",
        "outputId": "c8cd706b-8dab-4414-bf54-06cc3a241023"
      },
      "source": [
        "# image\n",
        "from skimage import io, data, filters, feature\n",
        "from skimage.util import crop\n",
        "import numpy as np\n",
        "from matplotlib import pyplot as plt\n",
        "from skimage.transform import rescale, resize, downscale_local_mean\n",
        "from scipy.ndimage import distance_transform_edt\n",
        "import timeit\n",
        "\n",
        "# standard\n",
        "import pandas as pd\n",
        "import matplotlib.pyplot as plt\n",
        "\n",
        "# xml parsing\n",
        "from bs4 import BeautifulSoup as bs\n",
        "from google.colab import drive\n",
        "drive.mount('/content/drive')\n",
        "\n",
        "# saving objects\n",
        "import os\n",
        "import h5py\n",
        "import sys\n",
        "\n",
        "# paths\n",
        "# matthew\n",
        "path_data = \"/content/drive/MyDrive/NOSES/cnn_data/\"\n",
        "path_images = \"/content/drive/MyDrive/NOSES/image_data/\""
      ],
      "execution_count": null,
      "outputs": [
        {
          "output_type": "stream",
          "text": [
            "Drive already mounted at /content/drive; to attempt to forcibly remount, call drive.mount(\"/content/drive\", force_remount=True).\n"
          ],
          "name": "stdout"
        }
      ]
    },
    {
      "cell_type": "code",
      "metadata": {
        "colab": {
          "base_uri": "https://localhost:8080/"
        },
        "id": "AR0d0xJWnzl0",
        "outputId": "0771f398-60b2-4a36-ada9-b8e0e3f905c8"
      },
      "source": [
        "print(os.getcwd())"
      ],
      "execution_count": null,
      "outputs": [
        {
          "output_type": "stream",
          "text": [
            "/content\n"
          ],
          "name": "stdout"
        }
      ]
    },
    {
      "cell_type": "markdown",
      "metadata": {
        "id": "lGot2oJzn7m8"
      },
      "source": [
        "## Function to Parse an XML"
      ]
    },
    {
      "cell_type": "code",
      "metadata": {
        "id": "8pYuJ31PWTmi"
      },
      "source": [
        "# parses xml, returns a dataframe with label and bounding box info\n",
        "def parse_xml(xml):\n",
        "  label = xml.find_all(\"name\")\n",
        "  xmin = xml.find_all(\"xmin\")\n",
        "  ymin = xml.find_all(\"ymin\")\n",
        "  xmax = xml.find_all(\"xmax\")\n",
        "  ymax = xml.find_all(\"ymax\")\n",
        "\n",
        "  for i in range(len(label)):\n",
        "    label[i] = label[i].text\n",
        "    xmin[i] = xmin[i].text\n",
        "    ymin[i] = ymin[i].text\n",
        "    xmax[i] = xmax[i].text\n",
        "    ymax[i] = ymax[i].text \n",
        "\n",
        "  df = pd.DataFrame({\"label\": label, \"xmin\": xmin, \"ymin\": ymin, \n",
        "                    \"xmax\": xmax, \"ymax\": ymax})\n",
        "  return df\n"
      ],
      "execution_count": null,
      "outputs": []
    },
    {
      "cell_type": "markdown",
      "metadata": {
        "id": "lA6YxShqoEfM"
      },
      "source": [
        "## Read in the .JPG files"
      ]
    },
    {
      "cell_type": "code",
      "metadata": {
        "colab": {
          "base_uri": "https://localhost:8080/"
        },
        "id": "THEmhi7Uoswd",
        "outputId": "2d077a34-6df8-4909-90ca-61c457e84490"
      },
      "source": [
        "start_time = timeit.default_timer()\n",
        "\n",
        "first_fnum = 1 # first file number\n",
        "last_fnum = 79 # last file number\n",
        "          \n",
        "imgs = []\n",
        "for fnum in range(first_fnum, last_fnum + 1):\n",
        "  path_to_img = path_images + \"DJI_\" + str(fnum).zfill(4) + \".JPG\"\n",
        "  img = io.imread(path_to_img, plugin=\"matplotlib\")\n",
        "  imgs.append(img)\n",
        "\n",
        "elapsed = timeit.default_timer() - start_time\n",
        "print(\"Time (minutes) elapsed for this cell:\", elapsed/60)"
      ],
      "execution_count": null,
      "outputs": [
        {
          "output_type": "stream",
          "text": [
            "Time (minutes) elapsed for this cell: 0.6961579448333358\n"
          ],
          "name": "stdout"
        }
      ]
    },
    {
      "cell_type": "markdown",
      "metadata": {
        "id": "HZ4rwQaYoJu7"
      },
      "source": [
        "## Read in the XML files"
      ]
    },
    {
      "cell_type": "code",
      "metadata": {
        "id": "Z5KaHXDA81nO"
      },
      "source": [
        "from bs4 import BeautifulSoup as bs\n",
        "\n",
        "xmls = []\n",
        "for fnum in range(first_fnum, last_fnum + 1):\n",
        "  content = []\n",
        "  # read the XML file\n",
        "  path_to_xml = path_images + \"DJI_\" + str(fnum).zfill(4) + \".xml\"\n",
        "  with open(path_to_xml, \"r\") as file:\n",
        "      # read each line in the file, readlines() returns a list of lines\n",
        "      content = file.readlines()\n",
        "      # combine the lines in the list into a string\n",
        "      content = \"\".join(content)\n",
        "      xml = bs(content, \"lxml\")\n",
        "      xmls.append(xml)\n"
      ],
      "execution_count": null,
      "outputs": []
    },
    {
      "cell_type": "markdown",
      "metadata": {
        "id": "eyT_kp2foYA0"
      },
      "source": [
        "## Transfer all XML data to a Pandas DataFrame"
      ]
    },
    {
      "cell_type": "code",
      "metadata": {
        "id": "-qZmp9RYZ4eu",
        "colab": {
          "base_uri": "https://localhost:8080/",
          "height": 221
        },
        "outputId": "b0bccebd-c93b-46a7-a9fc-d4cffd378c89"
      },
      "source": [
        "df = pd.DataFrame() # df containing all bounding boxes for all images\n",
        "for fnum in range(first_fnum, last_fnum + 1):\n",
        "  df_i = parse_xml(xmls[fnum - 1])\n",
        "  df_i.insert(0, \"file_num\", str(fnum).zfill(4))\n",
        "  df = pd.concat([df, df_i])\n",
        "\n",
        "print(df.shape)\n",
        "df.head()"
      ],
      "execution_count": null,
      "outputs": [
        {
          "output_type": "stream",
          "text": [
            "(5848, 6)\n"
          ],
          "name": "stdout"
        },
        {
          "output_type": "execute_result",
          "data": {
            "text/html": [
              "<div>\n",
              "<style scoped>\n",
              "    .dataframe tbody tr th:only-of-type {\n",
              "        vertical-align: middle;\n",
              "    }\n",
              "\n",
              "    .dataframe tbody tr th {\n",
              "        vertical-align: top;\n",
              "    }\n",
              "\n",
              "    .dataframe thead th {\n",
              "        text-align: right;\n",
              "    }\n",
              "</style>\n",
              "<table border=\"1\" class=\"dataframe\">\n",
              "  <thead>\n",
              "    <tr style=\"text-align: right;\">\n",
              "      <th></th>\n",
              "      <th>file_num</th>\n",
              "      <th>label</th>\n",
              "      <th>xmin</th>\n",
              "      <th>ymin</th>\n",
              "      <th>xmax</th>\n",
              "      <th>ymax</th>\n",
              "    </tr>\n",
              "  </thead>\n",
              "  <tbody>\n",
              "    <tr>\n",
              "      <th>0</th>\n",
              "      <td>0001</td>\n",
              "      <td>adult male</td>\n",
              "      <td>2240</td>\n",
              "      <td>1310</td>\n",
              "      <td>2319</td>\n",
              "      <td>1379</td>\n",
              "    </tr>\n",
              "    <tr>\n",
              "      <th>1</th>\n",
              "      <td>0001</td>\n",
              "      <td>adult male</td>\n",
              "      <td>1344</td>\n",
              "      <td>1931</td>\n",
              "      <td>1416</td>\n",
              "      <td>1984</td>\n",
              "    </tr>\n",
              "    <tr>\n",
              "      <th>0</th>\n",
              "      <td>0002</td>\n",
              "      <td>adult male</td>\n",
              "      <td>3550</td>\n",
              "      <td>616</td>\n",
              "      <td>3610</td>\n",
              "      <td>677</td>\n",
              "    </tr>\n",
              "    <tr>\n",
              "      <th>1</th>\n",
              "      <td>0002</td>\n",
              "      <td>male juvenile / female juvenile / adult female</td>\n",
              "      <td>522</td>\n",
              "      <td>120</td>\n",
              "      <td>586</td>\n",
              "      <td>182</td>\n",
              "    </tr>\n",
              "    <tr>\n",
              "      <th>2</th>\n",
              "      <td>0002</td>\n",
              "      <td>adult male</td>\n",
              "      <td>216</td>\n",
              "      <td>1539</td>\n",
              "      <td>275</td>\n",
              "      <td>1654</td>\n",
              "    </tr>\n",
              "  </tbody>\n",
              "</table>\n",
              "</div>"
            ],
            "text/plain": [
              "  file_num                                           label  ...  xmax  ymax\n",
              "0     0001                                      adult male  ...  2319  1379\n",
              "1     0001                                      adult male  ...  1416  1984\n",
              "0     0002                                      adult male  ...  3610   677\n",
              "1     0002  male juvenile / female juvenile / adult female  ...   586   182\n",
              "2     0002                                      adult male  ...   275  1654\n",
              "\n",
              "[5 rows x 6 columns]"
            ]
          },
          "metadata": {
            "tags": []
          },
          "execution_count": 7
        }
      ]
    },
    {
      "cell_type": "markdown",
      "metadata": {
        "id": "NXpn-zyIMGbG"
      },
      "source": [
        "### Clean Up Labels for Seal Categories"
      ]
    },
    {
      "cell_type": "code",
      "metadata": {
        "id": "CusBffdFBYXY",
        "colab": {
          "base_uri": "https://localhost:8080/"
        },
        "outputId": "3bdffd25-7af9-42c0-9ab4-b2c5da520d92"
      },
      "source": [
        "cat1 = 'adult male'\n",
        "cat2 = 'male juvenile / female juvenile / adult female'\n",
        "cat3 = 'pup'\n",
        "\n",
        "cat1_diffs = [\"Adult Male\", \"Adult male\", \"adult male seal\"]\n",
        "\n",
        "cat2_diffs = ['juvenile male / juvenile female / adult female',\n",
        "              'male juvenile / female juvenile /adult female',\n",
        "              'Adult Female or Young Male',\n",
        "              'male juvenile/female juvenile/adult female',\n",
        "              'Juvenile male / juvenile female / adult female',\n",
        "              'Juvenile male/ juvenile female/ adult female',\n",
        "              'male juvenile / female juvenile / adulf female',\n",
        "              'adult female seal', '\\\\\\\\', ']', '\\'']\n",
        "\n",
        "cat3_diffs = ['Pup', 'Juvenile', 'baby seal', 'juvenile seal']\n",
        "\n",
        "for cat1_diff in cat1_diffs: \n",
        "  df.loc[df[\"label\"] == cat1_diff, ['label']] = cat1\n",
        "\n",
        "for cat2_diff in cat2_diffs: \n",
        "  df.loc[df[\"label\"] == cat2_diff, ['label']] = cat2\n",
        "\n",
        "for cat3_diff in cat3_diffs: \n",
        "  df.loc[df[\"label\"] == cat3_diff, ['label']] = cat3\n",
        "\n",
        "df['label'].unique()"
      ],
      "execution_count": null,
      "outputs": [
        {
          "output_type": "execute_result",
          "data": {
            "text/plain": [
              "array(['adult male', 'male juvenile / female juvenile / adult female',\n",
              "       'pup'], dtype=object)"
            ]
          },
          "metadata": {
            "tags": []
          },
          "execution_count": 8
        }
      ]
    },
    {
      "cell_type": "markdown",
      "metadata": {
        "id": "4r4bVKHgulsq"
      },
      "source": [
        "## Functions to split and label the images"
      ]
    },
    {
      "cell_type": "code",
      "metadata": {
        "id": "UFYx-MXCpiqw"
      },
      "source": [
        "# ratio of seal present in subimage to be considered a \"full\" seal\r\n",
        "PERCENT_SEAL_PRESENT = .7 \r\n",
        "\r\n",
        "def split_image(img, num_subimgs, df_img, x_size, y_size, x_int, y_int):\r\n",
        "    # _size is the length in each direction\r\n",
        "    # _int is the interval you shift right or down by\r\n",
        "    # ex. (150, 150, 75, 75) - each split creates a 150x150 images and shifts over by 75 pixels each run through.\r\n",
        "    x_len = img.shape[1]\r\n",
        "    y_len = img.shape[0]\r\n",
        "\r\n",
        "    bb_data = {}\r\n",
        "    sub_images = []\r\n",
        "    num_image = num_subimgs\r\n",
        "    # crops like reading a book\r\n",
        "    i = 0\r\n",
        "    while (i < y_len):\r\n",
        "        # updates the new y coordinates\r\n",
        "        y1 = i\r\n",
        "        if i + y_size > y_len:\r\n",
        "            y1 = y_len-y_size\r\n",
        "            y2 = y_len\r\n",
        "            i = y_len\r\n",
        "        else:\r\n",
        "            y2 = i + y_size\r\n",
        "            i += y_int\r\n",
        "        \r\n",
        "        j = 0\r\n",
        "        while (j < x_len):\r\n",
        "            # updates the new x coordinates\r\n",
        "            x1 = j\r\n",
        "            if j + x_size > x_len:\r\n",
        "                x1 = x_len - x_size\r\n",
        "                x2 = x_len\r\n",
        "                j = x_len\r\n",
        "            else:\r\n",
        "                x2 = j + x_size\r\n",
        "                j += x_int\r\n",
        "            df_bb = find_bounding_boxes(df_img, x_size, y_size, x1, y1, x2, y2)\r\n",
        "            bb_data[num_image] = df_bb\r\n",
        "            cropped = img[y1:y2,x1:x2]\r\n",
        "            sub_images.append(cropped)\r\n",
        "            num_image += 1\r\n",
        "\r\n",
        "    bb_data = pd.Series(bb_data)    \r\n",
        "    return sub_images, bb_data\r\n",
        "\r\n",
        "# display a list of images\r\n",
        "def display_images(sub_images, size):\r\n",
        "  fig=plt.figure(figsize=(size, size))\r\n",
        "  for i in range(len(sub_images)):\r\n",
        "      sub_image = sub_images[i]\r\n",
        "      fig.add_subplot(len(sub_images), 1, i + 1)\r\n",
        "      plt.title(i)\r\n",
        "      plt.imshow(sub_image)\r\n",
        "  plt.show()\r\n",
        "\r\n",
        "\r\n",
        "def find_bounding_boxes(df_img, x_size, y_size, xmin, ymin, xmax, ymax):\r\n",
        "  col_names = list(df_img.columns)\r\n",
        "  col_names.append(\"percent_seal\")\r\n",
        "  df_bb = pd.DataFrame()\r\n",
        "  for row in df_img.itertuples():\r\n",
        "    bb_xmin = int(row[3])\r\n",
        "    bb_ymin = int(row[4])\r\n",
        "    bb_xmax = int(row[5])\r\n",
        "    bb_ymax = int(row[6])\r\n",
        "\r\n",
        "    bb_xmin_ = max(bb_xmin - xmin, 0)\r\n",
        "    bb_ymin_ = max(bb_ymin - ymin, 0)\r\n",
        "    bb_xmax_ = min(bb_xmax - xmin, xmax - xmin)\r\n",
        "    bb_ymax_ = min(bb_ymax - ymin, ymax - ymin)\r\n",
        "    bb_row = [row[1], row[2], bb_xmin_, bb_ymin_, bb_xmax_, bb_ymax_]\r\n",
        "\r\n",
        "    # if a bounding box was found\r\n",
        "    if ((bb_xmin_ >= 0 and bb_xmin_ <= x_size) and\r\n",
        "       (bb_ymin_ >= 0 and bb_ymin_ <= y_size) and\r\n",
        "       (bb_xmax_ >= 0 and bb_xmax_ <= x_size) and\r\n",
        "       (bb_ymax_ >= 0 and bb_ymax_ <= y_size)):\r\n",
        "      height = bb_ymax_ - bb_ymin_; length = bb_xmax_ - bb_xmin_\r\n",
        "      area = height * length # area of bb in image\r\n",
        "      bb_area = (bb_xmax - bb_xmin) * (bb_ymax - bb_ymin) # total area of bb \r\n",
        "\r\n",
        "      if (bb_area == 0): # ignore bounding boxes that don't have any area\r\n",
        "        break\r\n",
        "\r\n",
        "      percent_seal_present = area/bb_area # % of bb present in subimage\r\n",
        "      # print(\"original bb coordinates:\", row)\r\n",
        "      # print(\"subimage coordinates:\", [xmin, ymin, xmax, ymax])\r\n",
        "      # print(\"new bb coordinates:\", bb_row)\r\n",
        "      # print(percent_seal_present, area, bb_area)\r\n",
        "      bb_row.append(percent_seal_present)\r\n",
        "      df_bb = df_bb.append(pd.Series(bb_row, index=col_names), ignore_index=True)\r\n",
        "\r\n",
        "  if len(df_bb) == 0:\r\n",
        "    df_bb = None\r\n",
        "  return df_bb\r\n",
        "\r\n",
        "# takes in n, which splits each image into n by n images\r\n",
        "# returns all sub images and their corresponding meta data\r\n",
        "def split_and_label(x_size, y_size, x_int, y_int):\r\n",
        "  num_subimgs = 0\r\n",
        "  all_sub_imgs = []\r\n",
        "  all_bb_data = pd.Series(dtype='object')\r\n",
        "  for i in range(len(imgs)):\r\n",
        "    fnum = str(i + 1).zfill(4)\r\n",
        "    df_img = df[df[\"file_num\"] == fnum]\r\n",
        "    sub_imgs, bb_data = split_image(imgs[i], num_subimgs, df_img, x_size, y_size, x_int, y_int)\r\n",
        "    all_sub_imgs += sub_imgs\r\n",
        "    all_bb_data = pd.concat([all_bb_data, bb_data])\r\n",
        "    num_subimgs += len(sub_imgs)\r\n",
        "  return all_sub_imgs, all_bb_data\r\n"
      ],
      "execution_count": null,
      "outputs": []
    },
    {
      "cell_type": "markdown",
      "metadata": {
        "id": "7zb8Wmsq9QXz"
      },
      "source": [
        "### Split all images into n by n subimages and label each subimage with the appropriate meta data"
      ]
    },
    {
      "cell_type": "code",
      "metadata": {
        "id": "-KSZvIc_3zYL",
        "colab": {
          "base_uri": "https://localhost:8080/"
        },
        "outputId": "f7699015-b79b-4113-f9e6-e2ec35aa4db1"
      },
      "source": [
        "start_time = timeit.default_timer()\n",
        "\n",
        "sub_imgs, bb_data = split_and_label(150, 150, 75, 75)\n",
        "#sub_images, bb_data = split_and_label(img, 100, 150, 60, 75)\n",
        "print(\"Number of sub images:\", len(sub_imgs))\n",
        "\n",
        "elapsed = timeit.default_timer() - start_time\n",
        "print(\"Time (minutes) elapsed for this cell:\", elapsed/60)"
      ],
      "execution_count": null,
      "outputs": [
        {
          "output_type": "stream",
          "text": [
            "Number of sub images: 125610\n",
            "Time (minutes) elapsed for this cell: 5.4454755958833365\n"
          ],
          "name": "stdout"
        }
      ]
    },
    {
      "cell_type": "code",
      "metadata": {
        "id": "ivqzHfd8VI7q",
        "colab": {
          "base_uri": "https://localhost:8080/"
        },
        "outputId": "39ff61cb-b268-4ffe-ade0-e4399d4d997a"
      },
      "source": [
        "len(sub_imgs)"
      ],
      "execution_count": null,
      "outputs": [
        {
          "output_type": "execute_result",
          "data": {
            "text/plain": [
              "125610"
            ]
          },
          "metadata": {
            "tags": []
          },
          "execution_count": 11
        }
      ]
    },
    {
      "cell_type": "code",
      "metadata": {
        "id": "gS5gVBEfVK-n",
        "colab": {
          "base_uri": "https://localhost:8080/"
        },
        "outputId": "2a8216a5-0444-4ffb-82fe-952e8bcb23bd"
      },
      "source": [
        "len(df)"
      ],
      "execution_count": null,
      "outputs": [
        {
          "output_type": "execute_result",
          "data": {
            "text/plain": [
              "5848"
            ]
          },
          "metadata": {
            "tags": []
          },
          "execution_count": 12
        }
      ]
    },
    {
      "cell_type": "markdown",
      "metadata": {
        "id": "uiL4CLJ85JeX"
      },
      "source": [
        "## Save Images and Bounding Box Meta Data"
      ]
    },
    {
      "cell_type": "markdown",
      "metadata": {
        "id": "L_TGJO0KNQqo"
      },
      "source": [
        "Save entire dataset"
      ]
    },
    {
      "cell_type": "code",
      "metadata": {
        "id": "y8p3NgXGm1S_"
      },
      "source": [
        "np.save(path_data + \"images.npy\", sub_imgs)\n",
        "np.save(path_data + \"bb_data.npy\", bb_data)"
      ],
      "execution_count": null,
      "outputs": []
    },
    {
      "cell_type": "markdown",
      "metadata": {
        "id": "IKqHV46eNKs_"
      },
      "source": [
        "Save small dataset for playing around with"
      ]
    },
    {
      "cell_type": "code",
      "metadata": {
        "id": "QfOqhklwNIPR"
      },
      "source": [
        "np.save(path_data + \"images_small.npy\", sub_imgs[:1000])\n",
        "np.save(path_data + \"bb_data_small.npy\", bb_data[:1000])"
      ],
      "execution_count": null,
      "outputs": []
    },
    {
      "cell_type": "markdown",
      "metadata": {
        "id": "zmBjmehsQ6f6"
      },
      "source": [
        "Save slightly bigger dataset for playing around with"
      ]
    },
    {
      "cell_type": "code",
      "metadata": {
        "id": "9785Yq0aQ5Qi"
      },
      "source": [
        "np.save(path_data + \"images_medium.npy\", sub_imgs[:5000])\n",
        "np.save(path_data + \"bb_data_medium.npy\", bb_data[:5000])"
      ],
      "execution_count": null,
      "outputs": []
    },
    {
      "cell_type": "markdown",
      "metadata": {
        "id": "aFQY5l9Jv5j8"
      },
      "source": [
        "## Junk Code"
      ]
    },
    {
      "cell_type": "code",
      "metadata": {
        "id": "hkcxQ39Bv8qv"
      },
      "source": [
        "# complete = False; bb_found = False\n",
        "#     # check for complete bounding box\n",
        "#     if (bb_xmin > xmin and bb_ymin > ymin and \n",
        "#         bb_xmax < xmax and bb_ymax < ymax):\n",
        "#        bb_found = True; complete = True\n",
        "#        height = bb_ymax - bb_ymin; length = bb_xmax - bb_xmin\n",
        "  \n",
        "#     # check for partial bounding boxes\n",
        "#     ## bb cut off on top margin\n",
        "#     elif (bb_xmin > xmin and bb_xmax < xmax and bb_ymax < ymax):\n",
        "#       bb_found = True\n",
        "#     # bb cut off on bottom margin\n",
        "#     elif (bb_xmin > xmin and bb_ymin > ymin and bb_xmax < xmax):\n",
        "#       bb_found = True\n",
        "#     # bb cut off on right margin\n",
        "#     elif (bb_ymin > ymin and bb_xmax < xmax and bb_ymax < ymax):\n",
        "#       bb_found = True\n",
        "#     # bb cut off on left margin\n",
        "#     elif (bb_xmin > xmin and bb_ymin > ymin and bb_ymax < ymax): \n",
        "#       bb_found = True\n",
        "#     # bb cut off on top right corner\n",
        "#     elif (bb_xmax > xmin and bb_ymax > ymin and\n",
        "#           bb_xmin < xmin and bb_ymin < ymin):\n",
        "#       bb_found = True\n",
        "#     # bb cut off on top left corner\n",
        "#     elif (bb_xmin < xmax and bb_ymax > ymin and\n",
        "#           bb_xmax > xmax and bb_ymin < ymin):\n",
        "#       bb_found = True\n",
        "#     # bb cut off on bottom right corner\n",
        "#     elif (bb_xmin < xmax and bb_ymin < ymax and\n",
        "#          bb_xmax > xmax and bb_ymax > ymax):\n",
        "#       bb_found = True\n",
        "#     # bb cut off on bottom left corner\n",
        "#     elif (bb_xmax > xmin and bb_ymin < ymax and\n",
        "#           bb_xmin < xmin and bb_ymax > ymax):\n",
        "#       bb_found = True"
      ],
      "execution_count": null,
      "outputs": []
    }
  ]
}
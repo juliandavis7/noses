{
 "cells": [
  {
   "cell_type": "code",
   "execution_count": 2,
   "metadata": {},
   "outputs": [],
   "source": [
    "from lxml import etree\n",
    "import os"
   ]
  },
  {
   "cell_type": "code",
   "execution_count": 3,
   "metadata": {},
   "outputs": [
    {
     "data": {
      "text/plain": [
       "'C:\\\\Users\\\\mattm\\\\Documents\\\\CalPoly\\\\NOSES Project'"
      ]
     },
     "execution_count": 3,
     "metadata": {},
     "output_type": "execute_result"
    }
   ],
   "source": [
    "os.getcwd()"
   ]
  },
  {
   "cell_type": "code",
   "execution_count": 6,
   "metadata": {},
   "outputs": [],
   "source": [
    "tree = etree.parse(\"../../../OneDrive/Pictures/JOSHUA TREE 2018 SPRING/DSC_0396_label.xml\")"
   ]
  },
  {
   "cell_type": "code",
   "execution_count": 12,
   "metadata": {},
   "outputs": [
    {
     "name": "stdout",
     "output_type": "stream",
     "text": [
      "9\n"
     ]
    },
    {
     "data": {
      "text/plain": [
       "[<Element folder at 0x25df21b8608>,\n",
       " <Element filename at 0x25df21b8a08>,\n",
       " <Element path at 0x25df21b8548>,\n",
       " <Element source at 0x25df21b8408>,\n",
       " <Element size at 0x25df21bc5c8>,\n",
       " <Element segmented at 0x25df21bc4c8>,\n",
       " <Element object at 0x25df21bc2c8>,\n",
       " <Element object at 0x25df21bc288>,\n",
       " <Element object at 0x25df21bc648>]"
      ]
     },
     "execution_count": 12,
     "metadata": {},
     "output_type": "execute_result"
    }
   ],
   "source": [
    "objects = tree.getroot()\n",
    "print(len(objects.getchildren()))\n",
    "objects.getchildren()[:10]"
   ]
  },
  {
   "cell_type": "code",
   "execution_count": 34,
   "metadata": {},
   "outputs": [
    {
     "data": {
      "text/plain": [
       "3"
      ]
     },
     "execution_count": 34,
     "metadata": {},
     "output_type": "execute_result"
    }
   ],
   "source": [
    "num = len(tree.findall(\"object\"))\n",
    "num"
   ]
  },
  {
   "cell_type": "code",
   "execution_count": 36,
   "metadata": {},
   "outputs": [
    {
     "data": {
      "text/plain": [
       "[<Element object at 0x25df21bc2c8>,\n",
       " <Element object at 0x25df21bc288>,\n",
       " <Element object at 0x25df21bc648>]"
      ]
     },
     "execution_count": 36,
     "metadata": {},
     "output_type": "execute_result"
    }
   ],
   "source": [
    "objs = tree.findall(\"object\")\n",
    "objs"
   ]
  },
  {
   "cell_type": "code",
   "execution_count": 47,
   "metadata": {},
   "outputs": [
    {
     "name": "stdout",
     "output_type": "stream",
     "text": [
      "<object>\n",
      "\t\t<name>person</name>\n",
      "\t\t<pose>Unspecified</pose>\n",
      "\t\t<truncated>0</truncated>\n",
      "\t\t<difficult>0</difficult>\n",
      "\t\t<bndbox>\n",
      "\t\t\t<xmin>1817</xmin>\n",
      "\t\t\t<ymin>2875</ymin>\n",
      "\t\t\t<xmax>2135</xmax>\n",
      "\t\t\t<ymax>3430</ymax>\n",
      "\t\t</bndbox>\n",
      "\t</object>\n",
      "\t\n",
      "<object>\n",
      "\t\t<name>person</name>\n",
      "\t\t<pose>Unspecified</pose>\n",
      "\t\t<truncated>0</truncated>\n",
      "\t\t<difficult>0</difficult>\n",
      "\t\t<bndbox>\n",
      "\t\t\t<xmin>3381</xmin>\n",
      "\t\t\t<ymin>2430</ymin>\n",
      "\t\t\t<xmax>3699</xmax>\n",
      "\t\t\t<ymax>3061</ymax>\n",
      "\t\t</bndbox>\n",
      "\t</object>\n",
      "\t\n",
      "<object>\n",
      "\t\t<name>person</name>\n",
      "\t\t<pose>Unspecified</pose>\n",
      "\t\t<truncated>0</truncated>\n",
      "\t\t<difficult>0</difficult>\n",
      "\t\t<bndbox>\n",
      "\t\t\t<xmin>4340</xmin>\n",
      "\t\t\t<ymin>2602</ymin>\n",
      "\t\t\t<xmax>4753</xmax>\n",
      "\t\t\t<ymax>3334</ymax>\n",
      "\t\t</bndbox>\n",
      "\t</object>\n",
      "\n"
     ]
    },
    {
     "data": {
      "text/plain": [
       "['person', 'person', 'person']"
      ]
     },
     "execution_count": 47,
     "metadata": {},
     "output_type": "execute_result"
    }
   ],
   "source": [
    "animals = []\n",
    "for obj in objs:\n",
    "    print(etree.tostring(obj, encoding=\"unicode\"))\n",
    "    animals.append(obj.find(\"name\").text)\n",
    "animals"
   ]
  },
  {
   "cell_type": "code",
   "execution_count": null,
   "metadata": {},
   "outputs": [],
   "source": []
  }
 ],
 "metadata": {
  "kernelspec": {
   "display_name": "Python 3",
   "language": "python",
   "name": "python3"
  },
  "language_info": {
   "codemirror_mode": {
    "name": "ipython",
    "version": 3
   },
   "file_extension": ".py",
   "mimetype": "text/x-python",
   "name": "python",
   "nbconvert_exporter": "python",
   "pygments_lexer": "ipython3",
   "version": "3.6.5"
  }
 },
 "nbformat": 4,
 "nbformat_minor": 2
}

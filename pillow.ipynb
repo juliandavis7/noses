{
 "cells": [
  {
   "cell_type": "code",
   "execution_count": 2,
   "metadata": {},
   "outputs": [],
   "source": [
    "from PIL import Image"
   ]
  },
  {
   "cell_type": "code",
   "execution_count": 7,
   "metadata": {},
   "outputs": [],
   "source": [
    "im = Image.open(\"cow.img\")\n",
    "# im.show() to see original image\n",
    "\n",
    "# tutorial = https://www.youtube.com/watch?v=ne_WaIby6yc\n",
    "# (x1, y1) = top left corner\n",
    "# (x2, y2) = top right corner\n",
    "\n",
    "# crop entire image\n",
    "x1 = 0\n",
    "y1 = 0\n",
    "x2 = im.width\n",
    "y2 = im.height\n",
    "cropped = im.crop((x1, y1, x2, y2))\n",
    "cropped.show()"
   ]
  },
  {
   "cell_type": "code",
   "execution_count": 8,
   "metadata": {},
   "outputs": [],
   "source": [
    "# crop middle 200 by 200\n",
    "x1 = im.width - 100\n",
    "y1 = im.height - 100\n",
    "x2 = im.width + 100\n",
    "y2 = im.height + 100\n",
    "cropped = im.crop((x1, y1, x2, y2))\n",
    "cropped.show()"
   ]
  },
  {
   "cell_type": "code",
   "execution_count": null,
   "metadata": {},
   "outputs": [],
   "source": []
  }
 ],
 "metadata": {
  "kernelspec": {
   "display_name": "Python 3",
   "language": "python",
   "name": "python3"
  },
  "language_info": {
   "codemirror_mode": {
    "name": "ipython",
    "version": 3
   },
   "file_extension": ".py",
   "mimetype": "text/x-python",
   "name": "python",
   "nbconvert_exporter": "python",
   "pygments_lexer": "ipython3",
   "version": "3.8.3"
  }
 },
 "nbformat": 4,
 "nbformat_minor": 4
}
